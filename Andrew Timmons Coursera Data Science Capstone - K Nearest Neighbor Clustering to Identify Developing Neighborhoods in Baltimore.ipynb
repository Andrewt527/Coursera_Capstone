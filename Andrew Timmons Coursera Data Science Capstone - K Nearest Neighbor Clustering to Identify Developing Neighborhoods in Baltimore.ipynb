{
 "cells": [
  {
   "attachments": {},
   "cell_type": "markdown",
   "metadata": {},
   "source": [
    "# K Nearest Neighbor Clustering to Identify Developing Neighborhoods in Baltimore, MD\n",
    "### Andrew Timmons\n",
    "###### Coursera Data Science Capstone Project"
   ]
  },
  {
   "cell_type": "markdown",
   "metadata": {},
   "source": [
    "#### Introduction"
   ]
  },
  {
   "cell_type": "markdown",
   "metadata": {},
   "source": [
    "Few American cities exemplify the pervasive issue of 'urban blight' to the extent of Baltimore City, Maryland.  Located in the notorious 'Rust Belt,' Baltimore has experienced substantial economic and population collapse in the past 50 years.  Plagued by contractions in the American steel industry, since 1970 the population of Baltimore City has declined by >30% (U.S. Census).  Concaminant with this rapid economic and demographic decline, the crime rate in Baltimore City has skyrocketed, giving Baltimore the dubious distinction of one of the most violent cities in the US.  \n",
    "\n",
    "Vast financial and social resources have been deployed the revitalize some of Baltimore's most destitute neighborhoods. As a result of public and private investments, certain neighborhoods have begun experiencing a revitalization of neighborhood character and local business.  Early investment in a gentrifying neighborhood is a potentially lucrative opportunity, particularly for young professionals purchasing a first home.  Fortunately, with the variety of data available from the Baltimore City government, the US census, and the FourSquare venue database, we can identify candidates for gentrification using quantitative, machine-learning approaches. "
   ]
  },
  {
   "cell_type": "markdown",
   "metadata": {},
   "source": [
    "#### Approach"
   ]
  },
  {
   "cell_type": "markdown",
   "metadata": {},
   "source": [
    "Using K Nearest Neighbor clustering approaches, I will identify neighborhoods with low median property values in Baltimore that show similarity to more expensive neighborhoods.  Clustring will take into account a variety of different venues as taken from FourSquare and various demographic statistics provided by the Baltimore City Government. \n",
    "\n",
    "_Data Set 1: Baltimore Demographics_\n",
    "The United States census provides neighborhood-level statistics on total populations across the United States.  I will source this data from the United States census bureau for each neighborhood within Baltimore city. I will directly import this data into a dataframe from a local file to avoid navigating an API call to a 3rd party dataset. All data files used will be stored in my github repository.\n",
    "\n",
    "_Data Set 2: Baltimore Crime Rates_\n",
    "The Baltimore City police department provides a list of crime statistics.  Using this dataset, I will quantify the number of violent crimes occuring in each neighborhood.  \n",
    "\n",
    "_Data Set 3: Venues in Baltimore City_\n",
    "Using the FourSquare dataset, I will quantify the number of different venues occuring in each neighborhood.  Using these venues, I will use KNN algorithms to cluster neighborhoods in Baltimore city."
   ]
  },
  {
   "cell_type": "markdown",
   "metadata": {},
   "source": [
    "#### Readout"
   ]
  },
  {
   "cell_type": "markdown",
   "metadata": {},
   "source": [
    "I am primarily interested in the clusters that contain expensive Baltimore neighborhoods.  Within clusters of expensive neighborhoods, I will identify those neighborhoods that have the cheapest property values.  As these cheaper neighborhoods are quantitatively  similar to more expensive neighborhoods, these neighborhoods represent reasonable investment opportunities"
   ]
  },
  {
   "cell_type": "markdown",
   "metadata": {},
   "source": [
    "## Contents:\n",
    "* [Part 1 - Loading and Preparing Datasets for Analysis](#first-bullet)\n",
    "* [Part 2 - Initial Analysis of Datasets](#second-bullet)\n",
    "* [Part 3 - Obtaining venue data ](#third-bullet)\n",
    "* [Part 4 - K Nearest Neighbor Clustering of Neighborhoods](#fourth-bullet)\n",
    "* [Part 5 - Making Inferences from Clusters](#fifth-bullet)\n",
    "* [Part 6 - Conclusions](#sixth-bullet)"
   ]
  },
  {
   "cell_type": "markdown",
   "metadata": {},
   "source": [
    "### Part 1 - Loading and Preparing Datasets for Analysis <a class=\"anchor\" id=\"first-bullet\"></a>"
   ]
  },
  {
   "cell_type": "markdown",
   "metadata": {},
   "source": [
    "Census data and crime data were taken from the Maryland Census Bureau and the Baltimore Police Department, respecivelly.  To avoid issues with database format or API changes, datasets were downloaded as CSV files and uploaded to a github repository.  This notebook links to the csv files on the github repository for stability.\n",
    "\n",
    "_Data Sources_\n",
    "\n",
    "- Neighborhood level census data was sourced from the 2010 United States Census and compiled by ARCGIS.  Data can be accessed here https://vital-signs-bniajfi.hub.arcgis.com/datasets/56d5b4e5480049e98315c2732aa48437_0/data \n",
    "\n",
    "- Median household income data was sourced from the 2010 United States Census and compiled by ARCGIS.  Data can be accessed here https://vital-signs-bniajfi.hub.arcgis.com/datasets/8613366cfbc7447a9efd9123604c65c1_0/data\n",
    "\n",
    "- Crime data is compiled by the Baltimore city police department and made available thorugh an OpenData program.  Data are also accessible through ARCGIS and can be found here https://vital-signs-bniajfi.hub.arcgis.com/datasets/ab03385abf3b4f50aec0b090caa8877a_0/data\n",
    "\n",
    "- Venue data was sourced from FourSquare.  The code for this API call is stored in this notebook.  To avoid making repeated calls to the FourSquare API as I worked on this project, the resulting venue data was Pickled and stored in Github.  "
   ]
  },
  {
   "cell_type": "code",
   "execution_count": 1,
   "metadata": {},
   "outputs": [],
   "source": [
    "#Import Dependencies\n",
    "import pandas as pd\n",
    "import numpy as np"
   ]
  },
  {
   "cell_type": "code",
   "execution_count": 57,
   "metadata": {},
   "outputs": [],
   "source": [
    "#Read CSVs from datasets stored in my GitHub Repo\n",
    "census_data = pd.read_csv(r'https://raw.githubusercontent.com/Andrewt527/Coursera_Capstone/master/Baltimore%20Neighborhood%20Populations.csv')\n",
    "crime_data = pd.read_csv(r'https://raw.githubusercontent.com/Andrewt527/Coursera_Capstone/master/Crimes%20per%201000.csv')\n",
    "income_data = pd.read_csv(r'https://raw.githubusercontent.com/Andrewt527/Coursera_Capstone/master/Median%20Household%20Income.csv')\n",
    "homeprice_data = pd.read_csv(r'https://raw.githubusercontent.com/Andrewt527/Coursera_Capstone/master/Median%20Price.csv')"
   ]
  },
  {
   "cell_type": "code",
   "execution_count": 76,
   "metadata": {},
   "outputs": [
    {
     "name": "stdout",
     "output_type": "stream",
     "text": [
      "We are analyzing census data from 55 neighborhoods in Baltimore\n",
      "We are analyzing crime data from 55 neighborhoods in Baltimore\n",
      "We are analyzing income data from 55 neighborhoods in Baltimore\n",
      "We are analyzing home price data from 55 neighborhoods in Baltimore\n",
      "We are observing a total population of 615724 people\n"
     ]
    }
   ],
   "source": [
    "#Print Info about each dataset\n",
    "print('We are analyzing census data from', census_data.shape[0], 'neighborhoods in Baltimore')\n",
    "print('We are analyzing crime data from', crime_data.shape[0], 'neighborhoods in Baltimore')\n",
    "print('We are analyzing income data from', income_data.shape[0], 'neighborhoods in Baltimore')\n",
    "print('We are analyzing home price data from', homeprice_data.shape[0], 'neighborhoods in Baltimore')\n",
    "print('We are observing a total population of', census_data['Population'].sum(), 'people')"
   ]
  },
  {
   "cell_type": "code",
   "execution_count": 355,
   "metadata": {},
   "outputs": [],
   "source": [
    "#Grab relevant columns from each dataset, and then re-name columns to be more descriptive \n",
    "populations = census_data\n",
    "\n",
    "crimes = crime_data[[\"CSA2010\", \"viol18\"]]\n",
    "crimes.columns = ['Neighborhood','Crimes per 1000 People 2018']\n",
    "\n",
    "incomes = income_data[[\"CSA2010\", \"mhhi18\"]]\n",
    "incomes.columns = ['Neighborhood','Median Income in 2018']\n",
    "\n",
    "homesales = homeprice_data[[\"CSA2010\", \"salepr18\"]]\n",
    "homesales.columns = ['Neighborhood','Median Home Price in 2018']"
   ]
  },
  {
   "cell_type": "code",
   "execution_count": 356,
   "metadata": {},
   "outputs": [
    {
     "name": "stdout",
     "output_type": "stream",
     "text": [
      "We have compiled data from 55 neighborhoods in Baltimore\n"
     ]
    },
    {
     "data": {
      "text/html": [
       "<div>\n",
       "<style scoped>\n",
       "    .dataframe tbody tr th:only-of-type {\n",
       "        vertical-align: middle;\n",
       "    }\n",
       "\n",
       "    .dataframe tbody tr th {\n",
       "        vertical-align: top;\n",
       "    }\n",
       "\n",
       "    .dataframe thead th {\n",
       "        text-align: right;\n",
       "    }\n",
       "</style>\n",
       "<table border=\"1\" class=\"dataframe\">\n",
       "  <thead>\n",
       "    <tr style=\"text-align: right;\">\n",
       "      <th></th>\n",
       "      <th>Neighborhood</th>\n",
       "      <th>Population</th>\n",
       "      <th>Crimes per 1000 People 2018</th>\n",
       "      <th>Median Income in 2018</th>\n",
       "      <th>Median Home Price in 2018</th>\n",
       "    </tr>\n",
       "  </thead>\n",
       "  <tbody>\n",
       "    <tr>\n",
       "      <td>0</td>\n",
       "      <td>Allendale/Irvington/S. Hilton</td>\n",
       "      <td>16217</td>\n",
       "      <td>20.657335</td>\n",
       "      <td>38535.562176</td>\n",
       "      <td>75000.0</td>\n",
       "    </tr>\n",
       "    <tr>\n",
       "      <td>1</td>\n",
       "      <td>Beechfield/Ten Hills/West Hills</td>\n",
       "      <td>12264</td>\n",
       "      <td>12.312459</td>\n",
       "      <td>58055.306613</td>\n",
       "      <td>159450.0</td>\n",
       "    </tr>\n",
       "    <tr>\n",
       "      <td>2</td>\n",
       "      <td>Belair-Edison</td>\n",
       "      <td>17416</td>\n",
       "      <td>15.215893</td>\n",
       "      <td>42633.619512</td>\n",
       "      <td>79900.0</td>\n",
       "    </tr>\n",
       "    <tr>\n",
       "      <td>3</td>\n",
       "      <td>Brooklyn/Curtis Bay/Hawkins Point</td>\n",
       "      <td>14243</td>\n",
       "      <td>24.362845</td>\n",
       "      <td>39936.512500</td>\n",
       "      <td>67500.0</td>\n",
       "    </tr>\n",
       "    <tr>\n",
       "      <td>4</td>\n",
       "      <td>Canton</td>\n",
       "      <td>8100</td>\n",
       "      <td>9.135802</td>\n",
       "      <td>116911.088235</td>\n",
       "      <td>295500.0</td>\n",
       "    </tr>\n",
       "  </tbody>\n",
       "</table>\n",
       "</div>"
      ],
      "text/plain": [
       "                        Neighborhood  Population  Crimes per 1000 People 2018  \\\n",
       "0      Allendale/Irvington/S. Hilton       16217                    20.657335   \n",
       "1    Beechfield/Ten Hills/West Hills       12264                    12.312459   \n",
       "2                      Belair-Edison       17416                    15.215893   \n",
       "3  Brooklyn/Curtis Bay/Hawkins Point       14243                    24.362845   \n",
       "4                             Canton        8100                     9.135802   \n",
       "\n",
       "   Median Income in 2018  Median Home Price in 2018  \n",
       "0           38535.562176                    75000.0  \n",
       "1           58055.306613                   159450.0  \n",
       "2           42633.619512                    79900.0  \n",
       "3           39936.512500                    67500.0  \n",
       "4          116911.088235                   295500.0  "
      ]
     },
     "execution_count": 356,
     "metadata": {},
     "output_type": "execute_result"
    }
   ],
   "source": [
    "#Merge the datasets\n",
    "from functools import reduce\n",
    "dfs = [populations,crimes,incomes,homesales]\n",
    "\n",
    "neighborhood_data = reduce(lambda left, right: pd.merge(left, right, on=['Neighborhood'], how='inner'), dfs)\n",
    "print('We have compiled data from', neighborhood_data.shape[0], 'neighborhoods in Baltimore')\n",
    "neighborhood_data.head()"
   ]
  },
  {
   "cell_type": "markdown",
   "metadata": {},
   "source": [
    "### Part 2 - Initial Analysis of Datasets <a class=\"anchor\" id=\"second-bullet\"></a>"
   ]
  },
  {
   "cell_type": "markdown",
   "metadata": {},
   "source": [
    "An easy initial analysis is to determine whether there are correlations between a neighborhood's population, median incomes, and crime rates.  This will provide an initial assessment of the factors we have chosen to analyze"
   ]
  },
  {
   "cell_type": "code",
   "execution_count": 358,
   "metadata": {},
   "outputs": [
    {
     "data": {
      "text/plain": [
       "<matplotlib.axes._subplots.AxesSubplot at 0x151f79b87c8>"
      ]
     },
     "execution_count": 358,
     "metadata": {},
     "output_type": "execute_result"
    },
    {
     "data": {
      "image/png": "[encoded data removed]",
      "text/plain": [
       "<Figure size 360x360 with 2 Axes>"
      ]
     },
     "metadata": {
      "needs_background": "light"
     },
     "output_type": "display_data"
    }
   ],
   "source": [
    "#Lets initially inspect the correlations between demographic indicators and venues \n",
    "import matplotlib.pyplot as plt\n",
    "%matplotlib inline\n",
    "\n",
    "# Compute the correlation matrix\n",
    "corr = neighborhood_data.corr()\n",
    "\n",
    "# Generate a mask for the upper triangle\n",
    "mask = np.triu(np.ones_like(corr, dtype=np.bool))\n",
    "\n",
    "# Set up the matplotlib figure\n",
    "f, ax = plt.subplots(figsize=(5, 5))\n",
    "\n",
    "# Generate a custom diverging colormap\n",
    "cmap = 'coolwarm'\n",
    "\n",
    "# Draw the heatmap with the mask and correct aspect ratio\n",
    "sns.heatmap(corr, mask=mask, cmap=cmap, vmax=1, vmin=-1, center=0,\n",
    "            square=True, linewidths=.5, cbar_kws={\"shrink\": .5})"
   ]
  },
  {
   "cell_type": "markdown",
   "metadata": {},
   "source": [
    "Unsurprisingly, we observe a strong positive correlationb between the median income of each neighborhood and the median home prices in those neighborhoods.  In addition, we observe that the number of violent crimes per 1000 residents is negatively correlated with median income, meaning that wealthier neighborhoods generally have less crime than poorer neighborhoods. \n",
    "\n",
    "In addition to the income of neighborhood residents, wealthy and poorer neighborhoods may  differ substantially in the breadth of services that are offered to neighborhood residents.  In the context of identifying developing neighborhoods, it would be valuable to identify lower-cost neighborhoods with distributions of venues similar to those in more expensive neighborhoods. To address this question, we will use the FourSquare API to query the abundance of specific venues in Baltimore neighborhoods "
   ]
  },
  {
   "cell_type": "markdown",
   "metadata": {},
   "source": [
    "### Part 3 - Obtaining venue data <a class=\"anchor\" id=\"third-bullet\"></a>"
   ]
  },
  {
   "cell_type": "markdown",
   "metadata": {},
   "source": [
    "##### Part 3.1 - Obtaining Coordinates for Baltimore Neighborhoods"
   ]
  },
  {
   "cell_type": "code",
   "execution_count": 92,
   "metadata": {},
   "outputs": [],
   "source": [
    "# Import Dependencies\n",
    "import requests # library to handle requests\n",
    "import random # library for random number generation\n",
    "from geopy.geocoders import Nominatim # module to convert an address into latitude and longitude values\n",
    "from IPython.display import Image \n",
    "from IPython.core.display import HTML \n",
    "from pandas.io.json import json_normalize\n",
    "import folium # plotting library"
   ]
  },
  {
   "cell_type": "markdown",
   "metadata": {},
   "source": [
    "Before using the FourSquare API, we need to identify the latitude and longitude coordinates that represent each neighborhood. "
   ]
  },
  {
   "cell_type": "code",
   "execution_count": 94,
   "metadata": {},
   "outputs": [],
   "source": [
    "neigh = list(neighborhood_data['Neighborhood'])"
   ]
  },
  {
   "cell_type": "code",
   "execution_count": 96,
   "metadata": {},
   "outputs": [
    {
     "name": "stdout",
     "output_type": "stream",
     "text": [
      "55\n"
     ]
    }
   ],
   "source": [
    "#We need to clean up the neighborhood names before using them in the geolocator \n",
    "\n",
    "#Iteratively remove combined names (i.e Allendale/Irvington/S. Hilton -----> Allendale)\n",
    "neigh = list(i.split('/', 1)[-1] for i in neigh)\n",
    "neigh = list(i.split('/', 1)[0] for i in neigh)\n",
    "neigh = list(i.split('/', 1)[0] for i in neigh)\n",
    "\n",
    "#Remove hyphens from name\n",
    "neigh = list(i.split('-', 1)[-1] for i in neigh)\n",
    "\n",
    "#Remove 'greater' designations from name\n",
    "neigh = list(i.split('Greater ', 1)[-1] for i in neigh)\n",
    "\n",
    "#Remove 'the' designations from name\n",
    "neigh = list(i.split('The ', 1)[-1] for i in neigh)\n",
    "\n",
    "#Remove 'baltimore' from end of name\n",
    "neigh = list(i.split(' Baltimore', 1)[0] for i in neigh)\n",
    "\n",
    "#'Waverlies' is not recognized by the geocoder; change this to 'Waverly'\n",
    "[\"Waverly\" if x==\"Waverlies\" else x for x in neigh]\n",
    "\n",
    "print(len(neigh))"
   ]
  },
  {
   "cell_type": "code",
   "execution_count": 97,
   "metadata": {},
   "outputs": [],
   "source": [
    "#Pass each neighborhood to a geolocator, which will provide a latitude and longitude for the center of that neighborhood\n",
    "latlong = []\n",
    "geolocator = Nominatim(user_agent=\"at-coursera\")\n",
    "for i in neigh:\n",
    "    location = geolocator.geocode(i + \", Baltimore\")\n",
    "    if location is None:\n",
    "        locs = [0,0]\n",
    "    else:\n",
    "        locs = [location.raw['lat'],location.raw['lon']]\n",
    "    latlong.append(locs)\n",
    "\n",
    "latlong = pd.DataFrame(latlong)"
   ]
  },
  {
   "cell_type": "code",
   "execution_count": 98,
   "metadata": {},
   "outputs": [],
   "source": [
    "#Add these locations to the neighborhood_data dataframe\n",
    "neighborhood_data[\"Latitude\"] = latlong[0]\n",
    "neighborhood_data[\"Longitude\"] = latlong[1]\n",
    "\n",
    "#Remove neighborhoods that do not contain lat/long data\n",
    "neighborhood_data = neighborhood_data[neighborhood_data.Latitude != 0]\n",
    "neighborhood_data = neighborhood_data[neighborhood_data.Longitude != 0]\n",
    "\n",
    "#Fix the index so that there are no skipped values that will interfere with subsequent `for` loops\n",
    "neighborhood_data.index = range(len(neighborhood_data['Neighborhood']))"
   ]
  },
  {
   "cell_type": "code",
   "execution_count": 99,
   "metadata": {},
   "outputs": [
    {
     "name": "stdout",
     "output_type": "stream",
     "text": [
      "We have location data for 54 neighborhoods in Baltimore\n",
      "1 neighborhood(s) did not have location data\n"
     ]
    }
   ],
   "source": [
    "print('We have location data for', neighborhood_data.shape[0], 'neighborhoods in Baltimore')\n",
    "print(55- neighborhood_data.shape[0], 'neighborhood(s) did not have location data')"
   ]
  },
  {
   "cell_type": "markdown",
   "metadata": {},
   "source": [
    "##### Part 3.2 - Obtaining Venue Data for Each Neighborhood"
   ]
  },
  {
   "cell_type": "code",
   "execution_count": 101,
   "metadata": {},
   "outputs": [],
   "source": [
    "# Define FourSquare Client ID and Client Secret.  These fields are removed from my final project.  \n",
    "# The code for the API call is included, but after making the initial call, I pickled the resulting data locally.\n",
    "# This is to avoid making repeated calls to the FourSquare database when constructing the\n",
    "# rest of this notebook.\n",
    "\n",
    "CLIENT_ID = 'ARCEIKHAZZSD2Q0QXSGAVNVPWYF4RIMQJIU4JQILJYBCXPZQ' # your Foursquare ID\n",
    "CLIENT_SECRET = 'KYAUXR43X2CZGSKC2103ZOXXBFAXSWPSFRVOBBD14PHXEKZP' # your Foursquare Secret\n",
    "VERSION = '20180604'\n",
    "RADIUS = 800 #roughly 10 city blocks\n",
    "LIMIT = 200 "
   ]
  },
  {
   "cell_type": "code",
   "execution_count": 167,
   "metadata": {},
   "outputs": [],
   "source": [
    "# URL Constructor.  We will use this feature to fetch specific venues\n",
    "url_list = []\n",
    "categoryId = '52e81612bcbc57f1066b79f1' #Bistro\n",
    "\n",
    "#'4bf58dd8d48988d110941735' #Italian Restaurant\n",
    "#'4bf58dd8d48988d1fa931735' #Hotel\n",
    "#'4bf58dd8d48988d12f941735' #Library\n",
    "#'4bf58dd8d48988d118951735' #Grocery Store\n",
    "#'4bf58dd8d48988d1e0931735' #Coffee Shop\n",
    "#'4d4b7105d754a06378d81259' #shop or service\n",
    "#'4bf58dd8d48988d13b941735' #school\n",
    "#'4d4b7105d754a06374d81259' #general food\n",
    "#'4d954b0ea243a5684a65b473' #convenience store\n",
    "#'4bf58dd8d48988d186941735' #liquor store\n",
    "\n",
    "for i in range(len(neighborhood_data['Latitude'])):\n",
    "    latitude = neighborhood_data['Latitude'][i]\n",
    "    longitude = neighborhood_data['Longitude'][i]\n",
    "    url = 'https://api.foursquare.com/v2/venues/explore?client_id={}&client_secret={}&ll={},{}&v={}&radius={}&limit={}&categoryId={}'.format(CLIENT_ID, CLIENT_SECRET, latitude, longitude, VERSION, RADIUS, LIMIT, categoryId)\n",
    "    url_list.append(url)\n"
   ]
  },
  {
   "cell_type": "code",
   "execution_count": 168,
   "metadata": {},
   "outputs": [],
   "source": [
    "#Function that extracts the category of the venue\n",
    "def get_category_type(row):\n",
    "    try:\n",
    "        categories_list = row['categories']\n",
    "    except:\n",
    "        categories_list = row['venue.categories']\n",
    "        \n",
    "    if len(categories_list) == 0:\n",
    "        return None\n",
    "    else:\n",
    "        return categories_list[0]['name']\n",
    "\n",
    "#Define an empty list, into which we will pass dataframes extracted from the FourSquare JSON files\n",
    "df_list = []\n",
    "\n",
    "#Iterate over the list of urls generated for each neighborhood.  Extract venue data from each JSON file into a \n",
    "#dataframe, and pass that dataframe to the df_list\n",
    "\n",
    "for i in range(len(url_list)):\n",
    "    results = requests.get(url_list[i]).json()\n",
    "    #venue_list.append(results)\n",
    "    items = results['response']['groups'][0]['items']\n",
    "    if len(items) == 0:\n",
    "        dataframe_filtered = [\"No venues in range\"]\n",
    "        df_list.append(dataframe_filtered)\n",
    "        continue\n",
    "    else:\n",
    "        dataframe = json_normalize(items)\n",
    "        filtered_columns = ['venue.name', 'venue.categories'] + [col for col in dataframe.columns if col.startswith('venue.location.')] + ['venue.id']\n",
    "        dataframe_filtered = dataframe.loc[:, filtered_columns]\n",
    "        dataframe_filtered['venue.categories'] = dataframe_filtered.apply(get_category_type, axis=1)\n",
    "        dataframe_filtered.columns = [col.split('.')[-1] for col in dataframe_filtered.columns]\n",
    "        df_list.append(dataframe_filtered)"
   ]
  },
  {
   "cell_type": "code",
   "execution_count": 169,
   "metadata": {},
   "outputs": [],
   "source": [
    "#Save to pkl file so that we don't have to make redundant API calls\n",
    "import pickle\n",
    "with open(r'C:\\Users\\Andrew.Timmons\\Desktop\\Snapgene Collections\\Coding\\Notebooks\\Venue pkls\\bistro_list_800m.pkl', 'wb') as f:\n",
    "    pickle.dump(df_list, f)"
   ]
  },
  {
   "cell_type": "code",
   "execution_count": 170,
   "metadata": {},
   "outputs": [],
   "source": [
    "#Load data from pkl files\n",
    "import pickle\n",
    "with open(r'C:\\Users\\Andrew.Timmons\\Desktop\\Snapgene Collections\\Coding\\Notebooks\\Venue pkls\\liquorstore_list_800m.pkl', 'rb') as f:\n",
    "    liquor_stores = pickle.load(f)\n",
    "\n",
    "with open(r'C:\\Users\\Andrew.Timmons\\Desktop\\Snapgene Collections\\Coding\\Notebooks\\Venue pkls\\grocerystore_list_800m.pkl', 'rb') as f:\n",
    "    grocerystore = pickle.load(f)\n",
    "\n",
    "with open(r'C:\\Users\\Andrew.Timmons\\Desktop\\Snapgene Collections\\Coding\\Notebooks\\Venue pkls\\schools_list_800m.pkl', 'rb') as f:\n",
    "    schools = pickle.load(f)\n",
    "       \n",
    "with open(r'C:\\Users\\Andrew.Timmons\\Desktop\\Snapgene Collections\\Coding\\Notebooks\\Venue pkls\\coffeeshop_list_800m.pkl', 'rb') as f:\n",
    "    coffeeshops = pickle.load(f)\n",
    "\n",
    "with open(r'C:\\Users\\Andrew.Timmons\\Desktop\\Snapgene Collections\\Coding\\Notebooks\\Venue pkls\\library_list_800m.pkl', 'rb') as f:\n",
    "    library = pickle.load(f)\n",
    "\n",
    "with open(r'C:\\Users\\Andrew.Timmons\\Desktop\\Snapgene Collections\\Coding\\Notebooks\\Venue pkls\\hotel_list_800m.pkl', 'rb') as f:\n",
    "    hotels = pickle.load(f)   \n",
    "    \n",
    "with open(r'C:\\Users\\Andrew.Timmons\\Desktop\\Snapgene Collections\\Coding\\Notebooks\\Venue pkls\\italianrest_list_800m.pkl', 'rb') as f:\n",
    "    italian = pickle.load(f)  \n",
    "    \n",
    "with open(r'C:\\Users\\Andrew.Timmons\\Desktop\\Snapgene Collections\\Coding\\Notebooks\\Venue pkls\\bistro_list_800m.pkl', 'rb') as f:\n",
    "    bistros = pickle.load(f) "
   ]
  },
  {
   "cell_type": "code",
   "execution_count": 106,
   "metadata": {},
   "outputs": [
    {
     "data": {
      "text/html": [
       "<div>\n",
       "<style scoped>\n",
       "    .dataframe tbody tr th:only-of-type {\n",
       "        vertical-align: middle;\n",
       "    }\n",
       "\n",
       "    .dataframe tbody tr th {\n",
       "        vertical-align: top;\n",
       "    }\n",
       "\n",
       "    .dataframe thead th {\n",
       "        text-align: right;\n",
       "    }\n",
       "</style>\n",
       "<table border=\"1\" class=\"dataframe\">\n",
       "  <thead>\n",
       "    <tr style=\"text-align: right;\">\n",
       "      <th></th>\n",
       "      <th>name</th>\n",
       "      <th>categories</th>\n",
       "      <th>lat</th>\n",
       "      <th>lng</th>\n",
       "      <th>labeledLatLngs</th>\n",
       "      <th>distance</th>\n",
       "      <th>postalCode</th>\n",
       "      <th>cc</th>\n",
       "      <th>city</th>\n",
       "      <th>state</th>\n",
       "      <th>country</th>\n",
       "      <th>formattedAddress</th>\n",
       "      <th>id</th>\n",
       "    </tr>\n",
       "  </thead>\n",
       "  <tbody>\n",
       "    <tr>\n",
       "      <td>0</td>\n",
       "      <td>One Stop</td>\n",
       "      <td>Liquor Store</td>\n",
       "      <td>39.226136</td>\n",
       "      <td>-76.58934</td>\n",
       "      <td>[{'label': 'display', 'lat': 39.226135970824, ...</td>\n",
       "      <td>39</td>\n",
       "      <td>21226</td>\n",
       "      <td>US</td>\n",
       "      <td>Curtis Bay</td>\n",
       "      <td>MD</td>\n",
       "      <td>United States</td>\n",
       "      <td>[Curtis Bay, MD 21226, United States]</td>\n",
       "      <td>4c750feed8948cfa928a66da</td>\n",
       "    </tr>\n",
       "  </tbody>\n",
       "</table>\n",
       "</div>"
      ],
      "text/plain": [
       "       name    categories        lat       lng  \\\n",
       "0  One Stop  Liquor Store  39.226136 -76.58934   \n",
       "\n",
       "                                      labeledLatLngs  distance postalCode  cc  \\\n",
       "0  [{'label': 'display', 'lat': 39.226135970824, ...        39      21226  US   \n",
       "\n",
       "         city state        country                       formattedAddress  \\\n",
       "0  Curtis Bay    MD  United States  [Curtis Bay, MD 21226, United States]   \n",
       "\n",
       "                         id  \n",
       "0  4c750feed8948cfa928a66da  "
      ]
     },
     "execution_count": 106,
     "metadata": {},
     "output_type": "execute_result"
    }
   ],
   "source": [
    "#Our venue data is currently stored in lists of dataframes, as shown below.  We must define a function to get the total\n",
    "#number of venues from each neighborhood\n",
    "liquor_stores[3] #I.e. list all liquor stores in neighborhood index 3 (Curtis Bay)"
   ]
  },
  {
   "cell_type": "code",
   "execution_count": 107,
   "metadata": {},
   "outputs": [],
   "source": [
    "def venue_number(venuelist):\n",
    "    totalvenues = []\n",
    "    for i in venuelist:\n",
    "        length = len(i)\n",
    "        totalvenues.append(length)\n",
    "    return totalvenues"
   ]
  },
  {
   "cell_type": "code",
   "execution_count": 171,
   "metadata": {},
   "outputs": [],
   "source": [
    "neighborhood_data['liquor stores'] = venue_number(liquor_stores)\n",
    "neighborhood_data['grocery stores'] = venue_number(grocerystore)\n",
    "neighborhood_data['schools'] = venue_number(schools)\n",
    "neighborhood_data['coffee shops'] = venue_number(coffeeshops)\n",
    "neighborhood_data['libraries'] = venue_number(library)\n",
    "neighborhood_data['hotels'] = venue_number(hotels)\n",
    "neighborhood_data['italian'] = venue_number(italian)\n",
    "neighborhood_data['bistros'] = venue_number(bistros)"
   ]
  },
  {
   "cell_type": "code",
   "execution_count": 172,
   "metadata": {},
   "outputs": [
    {
     "data": {
      "text/html": [
       "<div>\n",
       "<style scoped>\n",
       "    .dataframe tbody tr th:only-of-type {\n",
       "        vertical-align: middle;\n",
       "    }\n",
       "\n",
       "    .dataframe tbody tr th {\n",
       "        vertical-align: top;\n",
       "    }\n",
       "\n",
       "    .dataframe thead th {\n",
       "        text-align: right;\n",
       "    }\n",
       "</style>\n",
       "<table border=\"1\" class=\"dataframe\">\n",
       "  <thead>\n",
       "    <tr style=\"text-align: right;\">\n",
       "      <th></th>\n",
       "      <th>Neighborhood</th>\n",
       "      <th>Population</th>\n",
       "      <th>Crimes per 1000 People 2018</th>\n",
       "      <th>Median Income in 2018</th>\n",
       "      <th>Median Home Price in 2018</th>\n",
       "      <th>Latitude</th>\n",
       "      <th>Longitude</th>\n",
       "      <th>liquor stores</th>\n",
       "      <th>schools</th>\n",
       "      <th>coffee shops</th>\n",
       "      <th>grocery stores</th>\n",
       "      <th>libraries</th>\n",
       "      <th>hotels</th>\n",
       "      <th>italian</th>\n",
       "      <th>bistros</th>\n",
       "    </tr>\n",
       "  </thead>\n",
       "  <tbody>\n",
       "    <tr>\n",
       "      <td>0</td>\n",
       "      <td>Allendale/Irvington/S. Hilton</td>\n",
       "      <td>16217</td>\n",
       "      <td>20.657335</td>\n",
       "      <td>38535.562176</td>\n",
       "      <td>75000.0</td>\n",
       "      <td>39.2816626</td>\n",
       "      <td>-76.6840405</td>\n",
       "      <td>1</td>\n",
       "      <td>1</td>\n",
       "      <td>1</td>\n",
       "      <td>1</td>\n",
       "      <td>1</td>\n",
       "      <td>1</td>\n",
       "      <td>1</td>\n",
       "      <td>1</td>\n",
       "    </tr>\n",
       "    <tr>\n",
       "      <td>1</td>\n",
       "      <td>Beechfield/Ten Hills/West Hills</td>\n",
       "      <td>12264</td>\n",
       "      <td>12.312459</td>\n",
       "      <td>58055.306613</td>\n",
       "      <td>159450.0</td>\n",
       "      <td>39.2878195</td>\n",
       "      <td>-76.7003502</td>\n",
       "      <td>1</td>\n",
       "      <td>2</td>\n",
       "      <td>1</td>\n",
       "      <td>1</td>\n",
       "      <td>1</td>\n",
       "      <td>1</td>\n",
       "      <td>1</td>\n",
       "      <td>1</td>\n",
       "    </tr>\n",
       "    <tr>\n",
       "      <td>2</td>\n",
       "      <td>Belair-Edison</td>\n",
       "      <td>17416</td>\n",
       "      <td>15.215893</td>\n",
       "      <td>42633.619512</td>\n",
       "      <td>79900.0</td>\n",
       "      <td>39.2908816</td>\n",
       "      <td>-76.610759</td>\n",
       "      <td>3</td>\n",
       "      <td>7</td>\n",
       "      <td>37</td>\n",
       "      <td>4</td>\n",
       "      <td>5</td>\n",
       "      <td>37</td>\n",
       "      <td>5</td>\n",
       "      <td>8</td>\n",
       "    </tr>\n",
       "    <tr>\n",
       "      <td>3</td>\n",
       "      <td>Brooklyn/Curtis Bay/Hawkins Point</td>\n",
       "      <td>14243</td>\n",
       "      <td>24.362845</td>\n",
       "      <td>39936.512500</td>\n",
       "      <td>67500.0</td>\n",
       "      <td>39.2257902</td>\n",
       "      <td>-76.5892145</td>\n",
       "      <td>1</td>\n",
       "      <td>3</td>\n",
       "      <td>2</td>\n",
       "      <td>1</td>\n",
       "      <td>1</td>\n",
       "      <td>1</td>\n",
       "      <td>1</td>\n",
       "      <td>1</td>\n",
       "    </tr>\n",
       "    <tr>\n",
       "      <td>4</td>\n",
       "      <td>Canton</td>\n",
       "      <td>8100</td>\n",
       "      <td>9.135802</td>\n",
       "      <td>116911.088235</td>\n",
       "      <td>295500.0</td>\n",
       "      <td>39.2816434</td>\n",
       "      <td>-76.5730592</td>\n",
       "      <td>4</td>\n",
       "      <td>7</td>\n",
       "      <td>5</td>\n",
       "      <td>2</td>\n",
       "      <td>4</td>\n",
       "      <td>1</td>\n",
       "      <td>3</td>\n",
       "      <td>2</td>\n",
       "    </tr>\n",
       "  </tbody>\n",
       "</table>\n",
       "</div>"
      ],
      "text/plain": [
       "                        Neighborhood  Population  Crimes per 1000 People 2018  \\\n",
       "0      Allendale/Irvington/S. Hilton       16217                    20.657335   \n",
       "1    Beechfield/Ten Hills/West Hills       12264                    12.312459   \n",
       "2                      Belair-Edison       17416                    15.215893   \n",
       "3  Brooklyn/Curtis Bay/Hawkins Point       14243                    24.362845   \n",
       "4                             Canton        8100                     9.135802   \n",
       "\n",
       "   Median Income in 2018  Median Home Price in 2018    Latitude    Longitude  \\\n",
       "0           38535.562176                    75000.0  39.2816626  -76.6840405   \n",
       "1           58055.306613                   159450.0  39.2878195  -76.7003502   \n",
       "2           42633.619512                    79900.0  39.2908816   -76.610759   \n",
       "3           39936.512500                    67500.0  39.2257902  -76.5892145   \n",
       "4          116911.088235                   295500.0  39.2816434  -76.5730592   \n",
       "\n",
       "   liquor stores  schools  coffee shops  grocery stores  libraries  hotels  \\\n",
       "0              1        1             1               1          1       1   \n",
       "1              1        2             1               1          1       1   \n",
       "2              3        7            37               4          5      37   \n",
       "3              1        3             2               1          1       1   \n",
       "4              4        7             5               2          4       1   \n",
       "\n",
       "   italian  bistros  \n",
       "0        1        1  \n",
       "1        1        1  \n",
       "2        5        8  \n",
       "3        1        1  \n",
       "4        3        2  "
      ]
     },
     "execution_count": 172,
     "metadata": {},
     "output_type": "execute_result"
    }
   ],
   "source": [
    "neighborhood_data.head()"
   ]
  },
  {
   "cell_type": "markdown",
   "metadata": {},
   "source": [
    "### Part 4 - K Nearest Neighbor Clustering of Neighborhoods <a class=\"anchor\" id=\"fourth-bullet\"></a>"
   ]
  },
  {
   "cell_type": "markdown",
   "metadata": {},
   "source": [
    "##### Part 4.1 - Assessing general correlations"
   ]
  },
  {
   "cell_type": "markdown",
   "metadata": {},
   "source": [
    "Now that we have a collection of venue data for each neighborhood, we can start by observing correlations between venue distribution and neighborhood demographic and crime statistics "
   ]
  },
  {
   "cell_type": "code",
   "execution_count": 176,
   "metadata": {},
   "outputs": [],
   "source": [
    "#Define columns to drop from our neighborhood_data dataframe\n",
    "dropcols = ['Neighborhood','Population','Latitude','Longitude']\n",
    "neighborhood_corr = neighborhood_data.drop(dropcols, axis=1)"
   ]
  },
  {
   "cell_type": "code",
   "execution_count": 182,
   "metadata": {},
   "outputs": [
    {
     "data": {
      "text/plain": [
       "<matplotlib.axes._subplots.AxesSubplot at 0x151fa048948>"
      ]
     },
     "execution_count": 182,
     "metadata": {},
     "output_type": "execute_result"
    },
    {
     "data": {
      "image/png": "[encoded data removed]",
      "text/plain": [
       "<Figure size 792x648 with 2 Axes>"
      ]
     },
     "metadata": {
      "needs_background": "light"
     },
     "output_type": "display_data"
    }
   ],
   "source": [
    "#Lets initially inspect the correlations between demographic indicators and venues \n",
    "import matplotlib.pyplot as plt\n",
    "%matplotlib inline\n",
    "\n",
    "# Compute the correlation matrix\n",
    "corr = neighborhood_corr.corr()\n",
    "\n",
    "# Generate a mask for the upper triangle\n",
    "mask = np.triu(np.ones_like(corr, dtype=np.bool))\n",
    "\n",
    "# Set up the matplotlib figure\n",
    "f, ax = plt.subplots(figsize=(11, 9))\n",
    "\n",
    "# Generate a custom diverging colormap\n",
    "cmap = 'coolwarm'\n",
    "\n",
    "# Draw the heatmap with the mask and correct aspect ratio\n",
    "sns.heatmap(corr, mask=mask, cmap=cmap, vmax=1, vmin=-1, center=0,\n",
    "            square=True, linewidths=.5, cbar_kws={\"shrink\": .5})"
   ]
  },
  {
   "cell_type": "markdown",
   "metadata": {},
   "source": [
    "There appear to be correlations between modest correlations between specific venues and the median home prices in a neighborhood.  Using clustering approaches, lets see if we can identify low-priced neighborhoods that are similar in venue composition to higher-priced neighborhoods"
   ]
  },
  {
   "cell_type": "markdown",
   "metadata": {},
   "source": [
    "##### Part 4.2 - Building the Clustering Algorithm"
   ]
  },
  {
   "cell_type": "code",
   "execution_count": 295,
   "metadata": {},
   "outputs": [],
   "source": [
    "from sklearn import preprocessing\n",
    "from sklearn.model_selection import train_test_split\n",
    "from sklearn.neighbors import KNeighborsClassifier\n",
    "from sklearn import metrics\n",
    "\n",
    "#Fetch x data and convert to numpy arrays\n",
    "x_data = neighborhood_corr.drop('Median Home Price in 2018',axis=1).values\n",
    "\n",
    "#Normalize our x data\n",
    "x_norm = preprocessing.StandardScaler().fit(x_data).transform(x_data.astype(float))"
   ]
  },
  {
   "cell_type": "code",
   "execution_count": 296,
   "metadata": {},
   "outputs": [],
   "source": [
    "#Categorize median home values into discrete classes.  I will divide neighborhoods\n",
    "#into categories 1-5, where bin 5 is the highest 1/5 of home values\n",
    "bins = 5\n",
    "y_data = neighborhood_corr['Median Home Price in 2018']\n",
    "y_data = np.array(pd.cut(y_data, bins=bins, labels=np.arange(bins), right=False))"
   ]
  },
  {
   "cell_type": "code",
   "execution_count": 297,
   "metadata": {},
   "outputs": [
    {
     "name": "stdout",
     "output_type": "stream",
     "text": [
      "Train set: (43, 10) (43,)\n",
      "Test set: (11, 10) (11,)\n"
     ]
    }
   ],
   "source": [
    "#Split the data into training and testing sets\n",
    "x_train, x_test, y_train, y_test = train_test_split (x_data, y_data, test_size = 0.2, random_state = 4)\n",
    "print ('Train set:', x_train.shape,  y_train.shape)\n",
    "print ('Test set:', x_test.shape,  y_test.shape)"
   ]
  },
  {
   "cell_type": "code",
   "execution_count": 298,
   "metadata": {},
   "outputs": [],
   "source": [
    "#Train the model with different K values.\n",
    "\n",
    "ks_tested = 11\n",
    "mean_accuracy = np.zeros((ks_tested-1))\n",
    "std_accuracy = np.zeros((ks_tested-1))\n",
    "\n",
    "for k in range(1,ks_tested):\n",
    "    #Train Model   \n",
    "    knn = KNeighborsClassifier(n_neighbors = k).fit(x_train,y_train)\n",
    "    #Predict labels of test set\n",
    "    yhat=knn.predict(x_test)\n",
    "    mean_accuracy[k-1] = metrics.accuracy_score(y_test, yhat)\n",
    "    std_accuracy[k-1]=np.std(yhat==y_test)/np.sqrt(yhat.shape[0])"
   ]
  },
  {
   "cell_type": "code",
   "execution_count": 299,
   "metadata": {},
   "outputs": [
    {
     "data": {
      "image/png": "[encoded data removed]",
      "text/plain": [
       "<Figure size 432x288 with 1 Axes>"
      ]
     },
     "metadata": {
      "needs_background": "light"
     },
     "output_type": "display_data"
    },
    {
     "name": "stdout",
     "output_type": "stream",
     "text": [
      "The best accuracy was with 0.7272727272727273 with k= 7\n"
     ]
    }
   ],
   "source": [
    "#Assess accuracy with different K values\n",
    "\n",
    "plt.plot(range(1,ks_tested),mean_accuracy,'g')\n",
    "plt.fill_between(range(1,ks_tested),mean_accuracy - 1 * std_accuracy,mean_accuracy + 1 * std_accuracy, alpha=0.10)\n",
    "plt.legend(('Accuracy ', '+/- 3xstd'))\n",
    "plt.ylabel('Accuracy ')\n",
    "plt.xlabel('Number of Neighbors (K)')\n",
    "plt.tight_layout()\n",
    "plt.show()\n",
    "\n",
    "print( \"The best accuracy was with\", mean_accuracy.max(), \"with k=\", mean_accuracy.argmax()+1)"
   ]
  },
  {
   "cell_type": "markdown",
   "metadata": {},
   "source": [
    "It seems that our model is accurately classifying neighborhoods in our test set.  We will next use this clustering algorithm to cluster our entire dataset, and then we will draw inferences from these clusters"
   ]
  },
  {
   "cell_type": "markdown",
   "metadata": {},
   "source": [
    "##### Part 4.3 - Applying the clustering algorithm to our whole dataset"
   ]
  },
  {
   "cell_type": "code",
   "execution_count": 300,
   "metadata": {},
   "outputs": [],
   "source": [
    "#Build the knn algorithm with a k=7\n",
    "knn_opt = KNeighborsClassifier(n_neighbors = 7).fit(x_train,y_train)\n",
    "yhat_all=knn_opt.predict(x_data)"
   ]
  },
  {
   "cell_type": "code",
   "execution_count": 301,
   "metadata": {},
   "outputs": [],
   "source": [
    "#Place these clusters in the neighborhood_data dataframe\n",
    "neighborhood_data['cluster'] = yhat_all"
   ]
  },
  {
   "cell_type": "code",
   "execution_count": 320,
   "metadata": {},
   "outputs": [],
   "source": [
    "#Split the neighborhood_data dataset into dataframes of different clusters\n",
    "clusters = dict(iter(neighborhood_data.groupby('cluster')))"
   ]
  },
  {
   "cell_type": "code",
   "execution_count": 332,
   "metadata": {},
   "outputs": [
    {
     "data": {
      "text/plain": [
       "'39.2816626'"
      ]
     },
     "execution_count": 332,
     "metadata": {},
     "output_type": "execute_result"
    }
   ],
   "source": [
    "#Define new dataframes based on clusters\n",
    "cluster_a = clusters[0]\n",
    "cluster_b = clusters[1]\n",
    "cluster_c = clusters[3]\n",
    "\n"
   ]
  },
  {
   "cell_type": "markdown",
   "metadata": {},
   "source": [
    "### Part 5 - Making Inferences from Clusters <a class=\"anchor\" id=\"fifth-bullet\"></a>"
   ]
  },
  {
   "cell_type": "code",
   "execution_count": 352,
   "metadata": {},
   "outputs": [
    {
     "data": {
      "text/html": [
       "<div style=\"width:100%;\"><div style=\"position:relative;width:100%;height:0;padding-bottom:60%;\"><span style=\"color:#565656\">Make this Notebook Trusted to load map: File -> Trust Notebook</span><iframe src=\"about:blank\" style=\"position:absolute;width:100%;height:100%;left:0;top:0;border:none !important;\" data-html=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 onload=\"this.contentDocument.open();this.contentDocument.write(atob(this.getAttribute('data-html')));this.contentDocument.close();\" allowfullscreen webkitallowfullscreen mozallowfullscreen></iframe></div></div>"
      ],
      "text/plain": [
       "<folium.folium.Map at 0x151f887ee88>"
      ]
     },
     "execution_count": 352,
     "metadata": {},
     "output_type": "execute_result"
    }
   ],
   "source": [
    "#Lets look at the clusters superimposed onto a map of Baltimore\n",
    "import folium\n",
    "neigh_map = folium.Map(location=[39.2904, -76.6122], zoom_start=11)\n",
    "\n",
    "#Add Cluster 1 Labels\n",
    "for i in range(len(cluster_a)):\n",
    "    lat = cluster_a['Latitude'].iloc[i]\n",
    "    lon = cluster_a['Longitude'].iloc[i]\n",
    "    folium.CircleMarker([lat,lon],\n",
    "                         radius = 3,\n",
    "                         fill = True,\n",
    "                         color = 'blue').add_to(neigh_map)\n",
    "\n",
    "#Add Cluster 2 Labels\n",
    "for i in range(len(cluster_b)):\n",
    "    lat = cluster_b['Latitude'].iloc[i]\n",
    "    lon = cluster_b['Longitude'].iloc[i]\n",
    "    folium.CircleMarker([lat,lon],\n",
    "                         radius = 3,\n",
    "                         fill = True,\n",
    "                         color = 'red').add_to(neigh_map)\n",
    "    \n",
    "#Add Cluster 3 Labels\n",
    "for i in range(len(cluster_c)):\n",
    "    lat = cluster_c['Latitude'].iloc[i]\n",
    "    lon = cluster_c['Longitude'].iloc[i]\n",
    "    folium.CircleMarker([lat,lon],\n",
    "                         radius = 3,\n",
    "                         fill = True,\n",
    "                         color = 'green').add_to(neigh_map)\n",
    "    \n",
    "neigh_map"
   ]
  },
  {
   "cell_type": "markdown",
   "metadata": {},
   "source": [
    "Interestingly, clusters of different neighborhoods appear to be distributed throughout Baltimore.  Many of the cluster 3 neighborhoods are centered around the inner harbor, which is a well-known developing area in Baltimore due to private investment."
   ]
  },
  {
   "cell_type": "code",
   "execution_count": 317,
   "metadata": {},
   "outputs": [
    {
     "data": {
      "text/plain": [
       "<matplotlib.axes._subplots.AxesSubplot at 0x151f9de03c8>"
      ]
     },
     "execution_count": 317,
     "metadata": {},
     "output_type": "execute_result"
    },
    {
     "data": {
      "image/png": "[encoded data removed]",
      "text/plain": [
       "<Figure size 432x288 with 1 Axes>"
      ]
     },
     "metadata": {
      "needs_background": "light"
     },
     "output_type": "display_data"
    }
   ],
   "source": [
    "#Lets observe housing costs in different clusters\n",
    "a_price = pd.DataFrame(cluster_a['Median Home Price in 2018'])\n",
    "a_price['cluster'] = cluster_a['cluster']\n",
    "\n",
    "b_price = pd.DataFrame(cluster_b['Median Home Price in 2018'])\n",
    "b_price['cluster'] = cluster_b['cluster']\n",
    "\n",
    "c_price = pd.DataFrame(cluster_c['Median Home Price in 2018'])\n",
    "c_price['cluster'] = cluster_c['cluster']\n",
    "\n",
    "alldata = pd.concat([a_price, b_price, c_price])\n",
    "\n",
    "sns.swarmplot(x=\"cluster\", y=\"Median Home Price in 2018\", data=alldata)"
   ]
  },
  {
   "cell_type": "markdown",
   "metadata": {},
   "source": [
    "The clusters appear to nicely separate median home prices into low/medium/high prices.  The cluster with the lowest incomes (cluster 0) appears to have many neighborhoods with very low home prices, and is skewed towards lower home prices. \n",
    "\n",
    "In contrast, cluster 1 and cluster 2 have a distribution of home prices more centered around an average.  Regarding the most attractive neighborhoods in which to purchase property, I believe that the cheapter neighborhoods in cluster 3 represent the most attractive neighborhoods for investment"
   ]
  },
  {
   "cell_type": "code",
   "execution_count": 319,
   "metadata": {},
   "outputs": [
    {
     "data": {
      "text/html": [
       "<div>\n",
       "<style scoped>\n",
       "    .dataframe tbody tr th:only-of-type {\n",
       "        vertical-align: middle;\n",
       "    }\n",
       "\n",
       "    .dataframe tbody tr th {\n",
       "        vertical-align: top;\n",
       "    }\n",
       "\n",
       "    .dataframe thead th {\n",
       "        text-align: right;\n",
       "    }\n",
       "</style>\n",
       "<table border=\"1\" class=\"dataframe\">\n",
       "  <thead>\n",
       "    <tr style=\"text-align: right;\">\n",
       "      <th></th>\n",
       "      <th>Neighborhood</th>\n",
       "      <th>Population</th>\n",
       "      <th>Crimes per 1000 People 2018</th>\n",
       "      <th>Median Income in 2018</th>\n",
       "      <th>Median Home Price in 2018</th>\n",
       "      <th>Latitude</th>\n",
       "      <th>Longitude</th>\n",
       "      <th>liquor stores</th>\n",
       "      <th>schools</th>\n",
       "      <th>coffee shops</th>\n",
       "      <th>grocery stores</th>\n",
       "      <th>libraries</th>\n",
       "      <th>hotels</th>\n",
       "      <th>italian</th>\n",
       "      <th>bistros</th>\n",
       "      <th>cluster</th>\n",
       "    </tr>\n",
       "  </thead>\n",
       "  <tbody>\n",
       "    <tr>\n",
       "      <td>37</td>\n",
       "      <td>Mount Washington/Coldspring</td>\n",
       "      <td>5168</td>\n",
       "      <td>5.224458</td>\n",
       "      <td>84848.090909</td>\n",
       "      <td>255000.0</td>\n",
       "      <td>39.3362694</td>\n",
       "      <td>-76.6723867</td>\n",
       "      <td>3</td>\n",
       "      <td>6</td>\n",
       "      <td>1</td>\n",
       "      <td>3</td>\n",
       "      <td>1</td>\n",
       "      <td>1</td>\n",
       "      <td>1</td>\n",
       "      <td>1</td>\n",
       "      <td>3</td>\n",
       "    </tr>\n",
       "    <tr>\n",
       "      <td>15</td>\n",
       "      <td>Fells Point</td>\n",
       "      <td>9039</td>\n",
       "      <td>19.028654</td>\n",
       "      <td>98981.910064</td>\n",
       "      <td>267500.0</td>\n",
       "      <td>39.28219</td>\n",
       "      <td>-76.5946085</td>\n",
       "      <td>3</td>\n",
       "      <td>6</td>\n",
       "      <td>13</td>\n",
       "      <td>5</td>\n",
       "      <td>1</td>\n",
       "      <td>20</td>\n",
       "      <td>20</td>\n",
       "      <td>6</td>\n",
       "      <td>3</td>\n",
       "    </tr>\n",
       "    <tr>\n",
       "      <td>27</td>\n",
       "      <td>Highlandtown</td>\n",
       "      <td>7250</td>\n",
       "      <td>31.034483</td>\n",
       "      <td>88324.005277</td>\n",
       "      <td>282000.0</td>\n",
       "      <td>39.2884629</td>\n",
       "      <td>-76.5675452</td>\n",
       "      <td>4</td>\n",
       "      <td>7</td>\n",
       "      <td>4</td>\n",
       "      <td>4</td>\n",
       "      <td>1</td>\n",
       "      <td>1</td>\n",
       "      <td>2</td>\n",
       "      <td>1</td>\n",
       "      <td>3</td>\n",
       "    </tr>\n",
       "    <tr>\n",
       "      <td>4</td>\n",
       "      <td>Canton</td>\n",
       "      <td>8100</td>\n",
       "      <td>9.135802</td>\n",
       "      <td>116911.088235</td>\n",
       "      <td>295500.0</td>\n",
       "      <td>39.2816434</td>\n",
       "      <td>-76.5730592</td>\n",
       "      <td>4</td>\n",
       "      <td>7</td>\n",
       "      <td>5</td>\n",
       "      <td>2</td>\n",
       "      <td>4</td>\n",
       "      <td>1</td>\n",
       "      <td>3</td>\n",
       "      <td>2</td>\n",
       "      <td>3</td>\n",
       "    </tr>\n",
       "    <tr>\n",
       "      <td>29</td>\n",
       "      <td>Inner Harbor/Federal Hill</td>\n",
       "      <td>12855</td>\n",
       "      <td>14.080124</td>\n",
       "      <td>100932.230594</td>\n",
       "      <td>301500.0</td>\n",
       "      <td>39.2791922</td>\n",
       "      <td>-76.6106687</td>\n",
       "      <td>5</td>\n",
       "      <td>7</td>\n",
       "      <td>15</td>\n",
       "      <td>3</td>\n",
       "      <td>1</td>\n",
       "      <td>11</td>\n",
       "      <td>6</td>\n",
       "      <td>5</td>\n",
       "      <td>3</td>\n",
       "    </tr>\n",
       "    <tr>\n",
       "      <td>38</td>\n",
       "      <td>North Baltimore/Guilford/Homeland</td>\n",
       "      <td>17464</td>\n",
       "      <td>4.466331</td>\n",
       "      <td>98094.852941</td>\n",
       "      <td>338350.0</td>\n",
       "      <td>39.3395637</td>\n",
       "      <td>-76.6144428</td>\n",
       "      <td>2</td>\n",
       "      <td>5</td>\n",
       "      <td>2</td>\n",
       "      <td>1</td>\n",
       "      <td>1</td>\n",
       "      <td>1</td>\n",
       "      <td>1</td>\n",
       "      <td>1</td>\n",
       "      <td>3</td>\n",
       "    </tr>\n",
       "    <tr>\n",
       "      <td>47</td>\n",
       "      <td>South Baltimore</td>\n",
       "      <td>6406</td>\n",
       "      <td>4.995317</td>\n",
       "      <td>114107.319502</td>\n",
       "      <td>350000.0</td>\n",
       "      <td>39.2908816</td>\n",
       "      <td>-76.610759</td>\n",
       "      <td>3</td>\n",
       "      <td>7</td>\n",
       "      <td>37</td>\n",
       "      <td>4</td>\n",
       "      <td>5</td>\n",
       "      <td>37</td>\n",
       "      <td>5</td>\n",
       "      <td>8</td>\n",
       "      <td>3</td>\n",
       "    </tr>\n",
       "    <tr>\n",
       "      <td>21</td>\n",
       "      <td>Greater Roland Park/Poplar Hill</td>\n",
       "      <td>7377</td>\n",
       "      <td>2.575573</td>\n",
       "      <td>117951.409574</td>\n",
       "      <td>388000.0</td>\n",
       "      <td>39.3675693</td>\n",
       "      <td>-76.6393266</td>\n",
       "      <td>1</td>\n",
       "      <td>4</td>\n",
       "      <td>1</td>\n",
       "      <td>1</td>\n",
       "      <td>2</td>\n",
       "      <td>1</td>\n",
       "      <td>1</td>\n",
       "      <td>1</td>\n",
       "      <td>3</td>\n",
       "    </tr>\n",
       "  </tbody>\n",
       "</table>\n",
       "</div>"
      ],
      "text/plain": [
       "                         Neighborhood  Population  \\\n",
       "37        Mount Washington/Coldspring        5168   \n",
       "15                        Fells Point        9039   \n",
       "27                       Highlandtown        7250   \n",
       "4                              Canton        8100   \n",
       "29          Inner Harbor/Federal Hill       12855   \n",
       "38  North Baltimore/Guilford/Homeland       17464   \n",
       "47                    South Baltimore        6406   \n",
       "21    Greater Roland Park/Poplar Hill        7377   \n",
       "\n",
       "    Crimes per 1000 People 2018  Median Income in 2018  \\\n",
       "37                     5.224458           84848.090909   \n",
       "15                    19.028654           98981.910064   \n",
       "27                    31.034483           88324.005277   \n",
       "4                      9.135802          116911.088235   \n",
       "29                    14.080124          100932.230594   \n",
       "38                     4.466331           98094.852941   \n",
       "47                     4.995317          114107.319502   \n",
       "21                     2.575573          117951.409574   \n",
       "\n",
       "    Median Home Price in 2018    Latitude    Longitude  liquor stores  \\\n",
       "37                   255000.0  39.3362694  -76.6723867              3   \n",
       "15                   267500.0    39.28219  -76.5946085              3   \n",
       "27                   282000.0  39.2884629  -76.5675452              4   \n",
       "4                    295500.0  39.2816434  -76.5730592              4   \n",
       "29                   301500.0  39.2791922  -76.6106687              5   \n",
       "38                   338350.0  39.3395637  -76.6144428              2   \n",
       "47                   350000.0  39.2908816   -76.610759              3   \n",
       "21                   388000.0  39.3675693  -76.6393266              1   \n",
       "\n",
       "    schools  coffee shops  grocery stores  libraries  hotels  italian  \\\n",
       "37        6             1               3          1       1        1   \n",
       "15        6            13               5          1      20       20   \n",
       "27        7             4               4          1       1        2   \n",
       "4         7             5               2          4       1        3   \n",
       "29        7            15               3          1      11        6   \n",
       "38        5             2               1          1       1        1   \n",
       "47        7            37               4          5      37        5   \n",
       "21        4             1               1          2       1        1   \n",
       "\n",
       "    bistros  cluster  \n",
       "37        1        3  \n",
       "15        6        3  \n",
       "27        1        3  \n",
       "4         2        3  \n",
       "29        5        3  \n",
       "38        1        3  \n",
       "47        8        3  \n",
       "21        1        3  "
      ]
     },
     "execution_count": 319,
     "metadata": {},
     "output_type": "execute_result"
    }
   ],
   "source": [
    "#Sort cluster 3 by median home price\n",
    "cluster_c_neighborhoods = cluster_c.sort_values(by='Median Home Price in 2018')\n",
    "cluster_c_neighborhoods"
   ]
  },
  {
   "cell_type": "markdown",
   "metadata": {},
   "source": [
    "### Conclusions <a class=\"anchor\" id=\"sixth-bullet\"></a>"
   ]
  },
  {
   "cell_type": "markdown",
   "metadata": {},
   "source": [
    "From this data, I would assume that the Mount Washington, Fells Point, and Highlandtown areas are the most attractive neighborhoods in which to purchase a house.  Visually inspecting this cluster reveals that, despite having substantially lower home prices, the Mount Washington, Fells Point, and Highlandtown areas share low crime rates and have similar venue distributions to the more expensive neighborhoods of South Baltimore and Roland Park."
   ]
  }
 ],
 "metadata": {
  "kernelspec": {
   "display_name": "Python 3",
   "language": "python",
   "name": "python3"
  },
  "language_info": {
   "codemirror_mode": {
    "name": "ipython",
    "version": 3
   },
   "file_extension": ".py",
   "mimetype": "text/x-python",
   "name": "python",
   "nbconvert_exporter": "python",
   "pygments_lexer": "ipython3",
   "version": "3.7.4"
  }
 },
 "nbformat": 4,
 "nbformat_minor": 2
}
